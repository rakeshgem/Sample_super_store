{
  "cells": [
    {
      "cell_type": "markdown",
      "metadata": {
        "id": "view-in-github",
        "colab_type": "text"
      },
      "source": [
        "<a href=\"https://colab.research.google.com/github/rakeshgem/Sample_super_store/blob/main/Sample_super_store.ipynb\" target=\"_parent\"><img src=\"https://colab.research.google.com/assets/colab-badge.svg\" alt=\"Open In Colab\"/></a>"
      ]
    },
    {
      "cell_type": "markdown",
      "id": "67a42ecb",
      "metadata": {
        "id": "67a42ecb"
      },
      "source": [
        "# Introduction"
      ]
    },
    {
      "cell_type": "markdown",
      "id": "a8335aad",
      "metadata": {
        "id": "a8335aad"
      },
      "source": [
        "### I have choosen a data set from kaggle it is about a super store in united states "
      ]
    },
    {
      "cell_type": "markdown",
      "id": "9aa5133d",
      "metadata": {
        "id": "9aa5133d"
      },
      "source": [
        "## Importing lib"
      ]
    },
    {
      "cell_type": "code",
      "execution_count": null,
      "id": "b4408ec6",
      "metadata": {
        "execution": {
          "iopub.execute_input": "2022-10-03T09:44:01.320939Z",
          "iopub.status.busy": "2022-10-03T09:44:01.319319Z",
          "iopub.status.idle": "2022-10-03T09:44:02.727768Z",
          "shell.execute_reply": "2022-10-03T09:44:02.725657Z"
        },
        "papermill": {
          "duration": 1.424558,
          "end_time": "2022-10-03T09:44:02.731030",
          "exception": false,
          "start_time": "2022-10-03T09:44:01.306472",
          "status": "completed"
        },
        "tags": [],
        "id": "b4408ec6"
      },
      "outputs": [],
      "source": [
        "# import lib\n",
        "import pandas as pd\n",
        "import seaborn as sns\n",
        "import matplotlib.pyplot as plt"
      ]
    },
    {
      "cell_type": "markdown",
      "id": "062106a8",
      "metadata": {
        "id": "062106a8"
      },
      "source": [
        "## Loading the csv file"
      ]
    },
    {
      "cell_type": "code",
      "execution_count": null,
      "id": "b5fedc68",
      "metadata": {
        "execution": {
          "iopub.execute_input": "2022-10-03T09:44:02.759448Z",
          "iopub.status.busy": "2022-10-03T09:44:02.758994Z",
          "iopub.status.idle": "2022-10-03T09:44:02.870056Z",
          "shell.execute_reply": "2022-10-03T09:44:02.868834Z"
        },
        "papermill": {
          "duration": 0.129462,
          "end_time": "2022-10-03T09:44:02.874015",
          "exception": false,
          "start_time": "2022-10-03T09:44:02.744553",
          "status": "completed"
        },
        "tags": [],
        "id": "b5fedc68",
        "outputId": "2357faa4-cae0-446e-c8dd-9a91f5c6dbc3"
      },
      "outputs": [
        {
          "data": {
            "text/html": [
              "<div>\n",
              "<style scoped>\n",
              "    .dataframe tbody tr th:only-of-type {\n",
              "        vertical-align: middle;\n",
              "    }\n",
              "\n",
              "    .dataframe tbody tr th {\n",
              "        vertical-align: top;\n",
              "    }\n",
              "\n",
              "    .dataframe thead th {\n",
              "        text-align: right;\n",
              "    }\n",
              "</style>\n",
              "<table border=\"1\" class=\"dataframe\">\n",
              "  <thead>\n",
              "    <tr style=\"text-align: right;\">\n",
              "      <th></th>\n",
              "      <th>Ship Mode</th>\n",
              "      <th>Segment</th>\n",
              "      <th>Country</th>\n",
              "      <th>City</th>\n",
              "      <th>State</th>\n",
              "      <th>Postal Code</th>\n",
              "      <th>Region</th>\n",
              "      <th>Category</th>\n",
              "      <th>Sub-Category</th>\n",
              "      <th>Sales</th>\n",
              "      <th>Quantity</th>\n",
              "      <th>Discount</th>\n",
              "      <th>Profit</th>\n",
              "    </tr>\n",
              "  </thead>\n",
              "  <tbody>\n",
              "    <tr>\n",
              "      <th>0</th>\n",
              "      <td>Second Class</td>\n",
              "      <td>Consumer</td>\n",
              "      <td>United States</td>\n",
              "      <td>Henderson</td>\n",
              "      <td>Kentucky</td>\n",
              "      <td>42420</td>\n",
              "      <td>South</td>\n",
              "      <td>Furniture</td>\n",
              "      <td>Bookcases</td>\n",
              "      <td>261.9600</td>\n",
              "      <td>2</td>\n",
              "      <td>0.00</td>\n",
              "      <td>41.9136</td>\n",
              "    </tr>\n",
              "    <tr>\n",
              "      <th>1</th>\n",
              "      <td>Second Class</td>\n",
              "      <td>Consumer</td>\n",
              "      <td>United States</td>\n",
              "      <td>Henderson</td>\n",
              "      <td>Kentucky</td>\n",
              "      <td>42420</td>\n",
              "      <td>South</td>\n",
              "      <td>Furniture</td>\n",
              "      <td>Chairs</td>\n",
              "      <td>731.9400</td>\n",
              "      <td>3</td>\n",
              "      <td>0.00</td>\n",
              "      <td>219.5820</td>\n",
              "    </tr>\n",
              "    <tr>\n",
              "      <th>2</th>\n",
              "      <td>Second Class</td>\n",
              "      <td>Corporate</td>\n",
              "      <td>United States</td>\n",
              "      <td>Los Angeles</td>\n",
              "      <td>California</td>\n",
              "      <td>90036</td>\n",
              "      <td>West</td>\n",
              "      <td>Office Supplies</td>\n",
              "      <td>Labels</td>\n",
              "      <td>14.6200</td>\n",
              "      <td>2</td>\n",
              "      <td>0.00</td>\n",
              "      <td>6.8714</td>\n",
              "    </tr>\n",
              "    <tr>\n",
              "      <th>3</th>\n",
              "      <td>Standard Class</td>\n",
              "      <td>Consumer</td>\n",
              "      <td>United States</td>\n",
              "      <td>Fort Lauderdale</td>\n",
              "      <td>Florida</td>\n",
              "      <td>33311</td>\n",
              "      <td>South</td>\n",
              "      <td>Furniture</td>\n",
              "      <td>Tables</td>\n",
              "      <td>957.5775</td>\n",
              "      <td>5</td>\n",
              "      <td>0.45</td>\n",
              "      <td>-383.0310</td>\n",
              "    </tr>\n",
              "    <tr>\n",
              "      <th>4</th>\n",
              "      <td>Standard Class</td>\n",
              "      <td>Consumer</td>\n",
              "      <td>United States</td>\n",
              "      <td>Fort Lauderdale</td>\n",
              "      <td>Florida</td>\n",
              "      <td>33311</td>\n",
              "      <td>South</td>\n",
              "      <td>Office Supplies</td>\n",
              "      <td>Storage</td>\n",
              "      <td>22.3680</td>\n",
              "      <td>2</td>\n",
              "      <td>0.20</td>\n",
              "      <td>2.5164</td>\n",
              "    </tr>\n",
              "  </tbody>\n",
              "</table>\n",
              "</div>"
            ],
            "text/plain": [
              "        Ship Mode    Segment        Country             City       State  \\\n",
              "0    Second Class   Consumer  United States        Henderson    Kentucky   \n",
              "1    Second Class   Consumer  United States        Henderson    Kentucky   \n",
              "2    Second Class  Corporate  United States      Los Angeles  California   \n",
              "3  Standard Class   Consumer  United States  Fort Lauderdale     Florida   \n",
              "4  Standard Class   Consumer  United States  Fort Lauderdale     Florida   \n",
              "\n",
              "   Postal Code Region         Category Sub-Category     Sales  Quantity  \\\n",
              "0        42420  South        Furniture    Bookcases  261.9600         2   \n",
              "1        42420  South        Furniture       Chairs  731.9400         3   \n",
              "2        90036   West  Office Supplies       Labels   14.6200         2   \n",
              "3        33311  South        Furniture       Tables  957.5775         5   \n",
              "4        33311  South  Office Supplies      Storage   22.3680         2   \n",
              "\n",
              "   Discount    Profit  \n",
              "0      0.00   41.9136  \n",
              "1      0.00  219.5820  \n",
              "2      0.00    6.8714  \n",
              "3      0.45 -383.0310  \n",
              "4      0.20    2.5164  "
            ]
          },
          "execution_count": 2,
          "metadata": {},
          "output_type": "execute_result"
        }
      ],
      "source": [
        "# load data\n",
        "df = pd.read_csv('SampleSuperstore.csv')\n",
        "df.head()"
      ]
    },
    {
      "cell_type": "markdown",
      "id": "e7b38b12",
      "metadata": {
        "id": "e7b38b12"
      },
      "source": [
        "## Checking for null values"
      ]
    },
    {
      "cell_type": "code",
      "execution_count": null,
      "id": "aa5bf5c7",
      "metadata": {
        "id": "aa5bf5c7",
        "outputId": "80af2bc6-1fff-4859-ad4b-6ae43ff6001e"
      },
      "outputs": [
        {
          "data": {
            "text/plain": [
              "Ship Mode       0\n",
              "Segment         0\n",
              "Country         0\n",
              "City            0\n",
              "State           0\n",
              "Postal Code     0\n",
              "Region          0\n",
              "Category        0\n",
              "Sub-Category    0\n",
              "Sales           0\n",
              "Quantity        0\n",
              "Discount        0\n",
              "Profit          0\n",
              "dtype: int64"
            ]
          },
          "execution_count": 3,
          "metadata": {},
          "output_type": "execute_result"
        }
      ],
      "source": [
        "df.isnull().sum()"
      ]
    },
    {
      "cell_type": "markdown",
      "id": "58723f72",
      "metadata": {
        "papermill": {
          "duration": 0.011273,
          "end_time": "2022-10-03T09:44:02.897118",
          "exception": false,
          "start_time": "2022-10-03T09:44:02.885845",
          "status": "completed"
        },
        "tags": [],
        "id": "58723f72"
      },
      "source": [
        "<a id='wrangling'></a>\n",
        "## Data Wrangling"
      ]
    },
    {
      "cell_type": "code",
      "execution_count": null,
      "id": "15d07e6d",
      "metadata": {
        "execution": {
          "iopub.execute_input": "2022-10-03T09:44:02.924507Z",
          "iopub.status.busy": "2022-10-03T09:44:02.923269Z",
          "iopub.status.idle": "2022-10-03T09:44:02.960379Z",
          "shell.execute_reply": "2022-10-03T09:44:02.958687Z"
        },
        "papermill": {
          "duration": 0.054016,
          "end_time": "2022-10-03T09:44:02.963718",
          "exception": false,
          "start_time": "2022-10-03T09:44:02.909702",
          "status": "completed"
        },
        "tags": [],
        "id": "15d07e6d"
      },
      "outputs": [],
      "source": [
        "# check information\n",
        "df.info()"
      ]
    },
    {
      "cell_type": "markdown",
      "id": "619042be",
      "metadata": {
        "papermill": {
          "duration": 0.011664,
          "end_time": "2022-10-03T09:44:02.988107",
          "exception": false,
          "start_time": "2022-10-03T09:44:02.976443",
          "status": "completed"
        },
        "tags": [],
        "id": "619042be"
      },
      "source": [
        "No missing values and all data types are okay"
      ]
    },
    {
      "cell_type": "markdown",
      "id": "03130ffb",
      "metadata": {
        "id": "03130ffb"
      },
      "source": [
        "## checking for duplicate values"
      ]
    },
    {
      "cell_type": "code",
      "execution_count": null,
      "id": "d10197cc",
      "metadata": {
        "execution": {
          "iopub.execute_input": "2022-10-03T09:44:03.018649Z",
          "iopub.status.busy": "2022-10-03T09:44:03.017950Z",
          "iopub.status.idle": "2022-10-03T09:44:03.070022Z",
          "shell.execute_reply": "2022-10-03T09:44:03.068666Z"
        },
        "papermill": {
          "duration": 0.070789,
          "end_time": "2022-10-03T09:44:03.072340",
          "exception": false,
          "start_time": "2022-10-03T09:44:03.001551",
          "status": "completed"
        },
        "tags": [],
        "id": "d10197cc",
        "outputId": "fcc1808b-e55c-4308-9f41-1bcbf2a5dd41"
      },
      "outputs": [
        {
          "data": {
            "text/html": [
              "<div>\n",
              "<style scoped>\n",
              "    .dataframe tbody tr th:only-of-type {\n",
              "        vertical-align: middle;\n",
              "    }\n",
              "\n",
              "    .dataframe tbody tr th {\n",
              "        vertical-align: top;\n",
              "    }\n",
              "\n",
              "    .dataframe thead th {\n",
              "        text-align: right;\n",
              "    }\n",
              "</style>\n",
              "<table border=\"1\" class=\"dataframe\">\n",
              "  <thead>\n",
              "    <tr style=\"text-align: right;\">\n",
              "      <th></th>\n",
              "      <th>Ship Mode</th>\n",
              "      <th>Segment</th>\n",
              "      <th>Country</th>\n",
              "      <th>City</th>\n",
              "      <th>State</th>\n",
              "      <th>Postal Code</th>\n",
              "      <th>Region</th>\n",
              "      <th>Category</th>\n",
              "      <th>Sub-Category</th>\n",
              "      <th>Sales</th>\n",
              "      <th>Quantity</th>\n",
              "      <th>Discount</th>\n",
              "      <th>Profit</th>\n",
              "    </tr>\n",
              "  </thead>\n",
              "  <tbody>\n",
              "    <tr>\n",
              "      <th>568</th>\n",
              "      <td>Standard Class</td>\n",
              "      <td>Corporate</td>\n",
              "      <td>United States</td>\n",
              "      <td>Seattle</td>\n",
              "      <td>Washington</td>\n",
              "      <td>98105</td>\n",
              "      <td>West</td>\n",
              "      <td>Office Supplies</td>\n",
              "      <td>Paper</td>\n",
              "      <td>19.440</td>\n",
              "      <td>3</td>\n",
              "      <td>0.0</td>\n",
              "      <td>9.3312</td>\n",
              "    </tr>\n",
              "    <tr>\n",
              "      <th>591</th>\n",
              "      <td>Standard Class</td>\n",
              "      <td>Consumer</td>\n",
              "      <td>United States</td>\n",
              "      <td>Salem</td>\n",
              "      <td>Oregon</td>\n",
              "      <td>97301</td>\n",
              "      <td>West</td>\n",
              "      <td>Office Supplies</td>\n",
              "      <td>Paper</td>\n",
              "      <td>10.368</td>\n",
              "      <td>2</td>\n",
              "      <td>0.2</td>\n",
              "      <td>3.6288</td>\n",
              "    </tr>\n",
              "    <tr>\n",
              "      <th>935</th>\n",
              "      <td>Standard Class</td>\n",
              "      <td>Home Office</td>\n",
              "      <td>United States</td>\n",
              "      <td>Philadelphia</td>\n",
              "      <td>Pennsylvania</td>\n",
              "      <td>19120</td>\n",
              "      <td>East</td>\n",
              "      <td>Office Supplies</td>\n",
              "      <td>Paper</td>\n",
              "      <td>15.552</td>\n",
              "      <td>3</td>\n",
              "      <td>0.2</td>\n",
              "      <td>5.4432</td>\n",
              "    </tr>\n",
              "    <tr>\n",
              "      <th>950</th>\n",
              "      <td>Standard Class</td>\n",
              "      <td>Home Office</td>\n",
              "      <td>United States</td>\n",
              "      <td>Philadelphia</td>\n",
              "      <td>Pennsylvania</td>\n",
              "      <td>19120</td>\n",
              "      <td>East</td>\n",
              "      <td>Office Supplies</td>\n",
              "      <td>Paper</td>\n",
              "      <td>15.552</td>\n",
              "      <td>3</td>\n",
              "      <td>0.2</td>\n",
              "      <td>5.4432</td>\n",
              "    </tr>\n",
              "    <tr>\n",
              "      <th>1186</th>\n",
              "      <td>Standard Class</td>\n",
              "      <td>Corporate</td>\n",
              "      <td>United States</td>\n",
              "      <td>Seattle</td>\n",
              "      <td>Washington</td>\n",
              "      <td>98103</td>\n",
              "      <td>West</td>\n",
              "      <td>Office Supplies</td>\n",
              "      <td>Paper</td>\n",
              "      <td>25.920</td>\n",
              "      <td>4</td>\n",
              "      <td>0.0</td>\n",
              "      <td>12.4416</td>\n",
              "    </tr>\n",
              "    <tr>\n",
              "      <th>1479</th>\n",
              "      <td>Standard Class</td>\n",
              "      <td>Consumer</td>\n",
              "      <td>United States</td>\n",
              "      <td>San Francisco</td>\n",
              "      <td>California</td>\n",
              "      <td>94122</td>\n",
              "      <td>West</td>\n",
              "      <td>Office Supplies</td>\n",
              "      <td>Paper</td>\n",
              "      <td>25.920</td>\n",
              "      <td>4</td>\n",
              "      <td>0.0</td>\n",
              "      <td>12.4416</td>\n",
              "    </tr>\n",
              "    <tr>\n",
              "      <th>2803</th>\n",
              "      <td>Standard Class</td>\n",
              "      <td>Consumer</td>\n",
              "      <td>United States</td>\n",
              "      <td>San Francisco</td>\n",
              "      <td>California</td>\n",
              "      <td>94122</td>\n",
              "      <td>West</td>\n",
              "      <td>Office Supplies</td>\n",
              "      <td>Paper</td>\n",
              "      <td>12.840</td>\n",
              "      <td>3</td>\n",
              "      <td>0.0</td>\n",
              "      <td>5.7780</td>\n",
              "    </tr>\n",
              "    <tr>\n",
              "      <th>2807</th>\n",
              "      <td>Second Class</td>\n",
              "      <td>Consumer</td>\n",
              "      <td>United States</td>\n",
              "      <td>Seattle</td>\n",
              "      <td>Washington</td>\n",
              "      <td>98115</td>\n",
              "      <td>West</td>\n",
              "      <td>Office Supplies</td>\n",
              "      <td>Paper</td>\n",
              "      <td>12.960</td>\n",
              "      <td>2</td>\n",
              "      <td>0.0</td>\n",
              "      <td>6.2208</td>\n",
              "    </tr>\n",
              "    <tr>\n",
              "      <th>2836</th>\n",
              "      <td>Standard Class</td>\n",
              "      <td>Consumer</td>\n",
              "      <td>United States</td>\n",
              "      <td>Los Angeles</td>\n",
              "      <td>California</td>\n",
              "      <td>90036</td>\n",
              "      <td>West</td>\n",
              "      <td>Office Supplies</td>\n",
              "      <td>Paper</td>\n",
              "      <td>19.440</td>\n",
              "      <td>3</td>\n",
              "      <td>0.0</td>\n",
              "      <td>9.3312</td>\n",
              "    </tr>\n",
              "    <tr>\n",
              "      <th>3127</th>\n",
              "      <td>Standard Class</td>\n",
              "      <td>Consumer</td>\n",
              "      <td>United States</td>\n",
              "      <td>New York City</td>\n",
              "      <td>New York</td>\n",
              "      <td>10011</td>\n",
              "      <td>East</td>\n",
              "      <td>Office Supplies</td>\n",
              "      <td>Paper</td>\n",
              "      <td>49.120</td>\n",
              "      <td>4</td>\n",
              "      <td>0.0</td>\n",
              "      <td>23.0864</td>\n",
              "    </tr>\n",
              "    <tr>\n",
              "      <th>3405</th>\n",
              "      <td>Standard Class</td>\n",
              "      <td>Home Office</td>\n",
              "      <td>United States</td>\n",
              "      <td>Columbus</td>\n",
              "      <td>Ohio</td>\n",
              "      <td>43229</td>\n",
              "      <td>East</td>\n",
              "      <td>Furniture</td>\n",
              "      <td>Chairs</td>\n",
              "      <td>281.372</td>\n",
              "      <td>2</td>\n",
              "      <td>0.3</td>\n",
              "      <td>-12.0588</td>\n",
              "    </tr>\n",
              "    <tr>\n",
              "      <th>3406</th>\n",
              "      <td>Standard Class</td>\n",
              "      <td>Home Office</td>\n",
              "      <td>United States</td>\n",
              "      <td>Columbus</td>\n",
              "      <td>Ohio</td>\n",
              "      <td>43229</td>\n",
              "      <td>East</td>\n",
              "      <td>Furniture</td>\n",
              "      <td>Chairs</td>\n",
              "      <td>281.372</td>\n",
              "      <td>2</td>\n",
              "      <td>0.3</td>\n",
              "      <td>-12.0588</td>\n",
              "    </tr>\n",
              "    <tr>\n",
              "      <th>3412</th>\n",
              "      <td>Standard Class</td>\n",
              "      <td>Corporate</td>\n",
              "      <td>United States</td>\n",
              "      <td>San Francisco</td>\n",
              "      <td>California</td>\n",
              "      <td>94122</td>\n",
              "      <td>West</td>\n",
              "      <td>Office Supplies</td>\n",
              "      <td>Art</td>\n",
              "      <td>11.760</td>\n",
              "      <td>4</td>\n",
              "      <td>0.0</td>\n",
              "      <td>3.1752</td>\n",
              "    </tr>\n",
              "    <tr>\n",
              "      <th>3670</th>\n",
              "      <td>Standard Class</td>\n",
              "      <td>Consumer</td>\n",
              "      <td>United States</td>\n",
              "      <td>Salem</td>\n",
              "      <td>Oregon</td>\n",
              "      <td>97301</td>\n",
              "      <td>West</td>\n",
              "      <td>Office Supplies</td>\n",
              "      <td>Paper</td>\n",
              "      <td>10.368</td>\n",
              "      <td>2</td>\n",
              "      <td>0.2</td>\n",
              "      <td>3.6288</td>\n",
              "    </tr>\n",
              "    <tr>\n",
              "      <th>4117</th>\n",
              "      <td>Standard Class</td>\n",
              "      <td>Consumer</td>\n",
              "      <td>United States</td>\n",
              "      <td>Los Angeles</td>\n",
              "      <td>California</td>\n",
              "      <td>90036</td>\n",
              "      <td>West</td>\n",
              "      <td>Office Supplies</td>\n",
              "      <td>Paper</td>\n",
              "      <td>19.440</td>\n",
              "      <td>3</td>\n",
              "      <td>0.0</td>\n",
              "      <td>9.3312</td>\n",
              "    </tr>\n",
              "    <tr>\n",
              "      <th>4553</th>\n",
              "      <td>Standard Class</td>\n",
              "      <td>Consumer</td>\n",
              "      <td>United States</td>\n",
              "      <td>San Francisco</td>\n",
              "      <td>California</td>\n",
              "      <td>94122</td>\n",
              "      <td>West</td>\n",
              "      <td>Office Supplies</td>\n",
              "      <td>Paper</td>\n",
              "      <td>12.840</td>\n",
              "      <td>3</td>\n",
              "      <td>0.0</td>\n",
              "      <td>5.7780</td>\n",
              "    </tr>\n",
              "    <tr>\n",
              "      <th>5372</th>\n",
              "      <td>Standard Class</td>\n",
              "      <td>Corporate</td>\n",
              "      <td>United States</td>\n",
              "      <td>Houston</td>\n",
              "      <td>Texas</td>\n",
              "      <td>77041</td>\n",
              "      <td>Central</td>\n",
              "      <td>Office Supplies</td>\n",
              "      <td>Paper</td>\n",
              "      <td>15.552</td>\n",
              "      <td>3</td>\n",
              "      <td>0.2</td>\n",
              "      <td>5.4432</td>\n",
              "    </tr>\n",
              "    <tr>\n",
              "      <th>5493</th>\n",
              "      <td>Same Day</td>\n",
              "      <td>Home Office</td>\n",
              "      <td>United States</td>\n",
              "      <td>San Francisco</td>\n",
              "      <td>California</td>\n",
              "      <td>94122</td>\n",
              "      <td>West</td>\n",
              "      <td>Office Supplies</td>\n",
              "      <td>Labels</td>\n",
              "      <td>41.400</td>\n",
              "      <td>4</td>\n",
              "      <td>0.0</td>\n",
              "      <td>19.8720</td>\n",
              "    </tr>\n",
              "    <tr>\n",
              "      <th>5905</th>\n",
              "      <td>Same Day</td>\n",
              "      <td>Home Office</td>\n",
              "      <td>United States</td>\n",
              "      <td>San Francisco</td>\n",
              "      <td>California</td>\n",
              "      <td>94122</td>\n",
              "      <td>West</td>\n",
              "      <td>Office Supplies</td>\n",
              "      <td>Labels</td>\n",
              "      <td>41.400</td>\n",
              "      <td>4</td>\n",
              "      <td>0.0</td>\n",
              "      <td>19.8720</td>\n",
              "    </tr>\n",
              "    <tr>\n",
              "      <th>6146</th>\n",
              "      <td>Standard Class</td>\n",
              "      <td>Corporate</td>\n",
              "      <td>United States</td>\n",
              "      <td>San Francisco</td>\n",
              "      <td>California</td>\n",
              "      <td>94122</td>\n",
              "      <td>West</td>\n",
              "      <td>Office Supplies</td>\n",
              "      <td>Art</td>\n",
              "      <td>11.760</td>\n",
              "      <td>4</td>\n",
              "      <td>0.0</td>\n",
              "      <td>3.1752</td>\n",
              "    </tr>\n",
              "    <tr>\n",
              "      <th>6245</th>\n",
              "      <td>Standard Class</td>\n",
              "      <td>Home Office</td>\n",
              "      <td>United States</td>\n",
              "      <td>Seattle</td>\n",
              "      <td>Washington</td>\n",
              "      <td>98105</td>\n",
              "      <td>West</td>\n",
              "      <td>Furniture</td>\n",
              "      <td>Furnishings</td>\n",
              "      <td>22.140</td>\n",
              "      <td>3</td>\n",
              "      <td>0.0</td>\n",
              "      <td>6.4206</td>\n",
              "    </tr>\n",
              "    <tr>\n",
              "      <th>6334</th>\n",
              "      <td>Standard Class</td>\n",
              "      <td>Consumer</td>\n",
              "      <td>United States</td>\n",
              "      <td>New York City</td>\n",
              "      <td>New York</td>\n",
              "      <td>10011</td>\n",
              "      <td>East</td>\n",
              "      <td>Office Supplies</td>\n",
              "      <td>Paper</td>\n",
              "      <td>49.120</td>\n",
              "      <td>4</td>\n",
              "      <td>0.0</td>\n",
              "      <td>23.0864</td>\n",
              "    </tr>\n",
              "    <tr>\n",
              "      <th>6357</th>\n",
              "      <td>Standard Class</td>\n",
              "      <td>Corporate</td>\n",
              "      <td>United States</td>\n",
              "      <td>Seattle</td>\n",
              "      <td>Washington</td>\n",
              "      <td>98103</td>\n",
              "      <td>West</td>\n",
              "      <td>Office Supplies</td>\n",
              "      <td>Paper</td>\n",
              "      <td>25.920</td>\n",
              "      <td>4</td>\n",
              "      <td>0.0</td>\n",
              "      <td>12.4416</td>\n",
              "    </tr>\n",
              "    <tr>\n",
              "      <th>6409</th>\n",
              "      <td>First Class</td>\n",
              "      <td>Consumer</td>\n",
              "      <td>United States</td>\n",
              "      <td>Houston</td>\n",
              "      <td>Texas</td>\n",
              "      <td>77041</td>\n",
              "      <td>Central</td>\n",
              "      <td>Office Supplies</td>\n",
              "      <td>Paper</td>\n",
              "      <td>47.952</td>\n",
              "      <td>3</td>\n",
              "      <td>0.2</td>\n",
              "      <td>16.1838</td>\n",
              "    </tr>\n",
              "    <tr>\n",
              "      <th>7608</th>\n",
              "      <td>Standard Class</td>\n",
              "      <td>Consumer</td>\n",
              "      <td>United States</td>\n",
              "      <td>San Francisco</td>\n",
              "      <td>California</td>\n",
              "      <td>94122</td>\n",
              "      <td>West</td>\n",
              "      <td>Office Supplies</td>\n",
              "      <td>Paper</td>\n",
              "      <td>25.920</td>\n",
              "      <td>4</td>\n",
              "      <td>0.0</td>\n",
              "      <td>12.4416</td>\n",
              "    </tr>\n",
              "    <tr>\n",
              "      <th>7735</th>\n",
              "      <td>Standard Class</td>\n",
              "      <td>Corporate</td>\n",
              "      <td>United States</td>\n",
              "      <td>Seattle</td>\n",
              "      <td>Washington</td>\n",
              "      <td>98105</td>\n",
              "      <td>West</td>\n",
              "      <td>Office Supplies</td>\n",
              "      <td>Paper</td>\n",
              "      <td>19.440</td>\n",
              "      <td>3</td>\n",
              "      <td>0.0</td>\n",
              "      <td>9.3312</td>\n",
              "    </tr>\n",
              "    <tr>\n",
              "      <th>7759</th>\n",
              "      <td>Standard Class</td>\n",
              "      <td>Corporate</td>\n",
              "      <td>United States</td>\n",
              "      <td>Houston</td>\n",
              "      <td>Texas</td>\n",
              "      <td>77041</td>\n",
              "      <td>Central</td>\n",
              "      <td>Office Supplies</td>\n",
              "      <td>Paper</td>\n",
              "      <td>15.552</td>\n",
              "      <td>3</td>\n",
              "      <td>0.2</td>\n",
              "      <td>5.4432</td>\n",
              "    </tr>\n",
              "    <tr>\n",
              "      <th>8032</th>\n",
              "      <td>First Class</td>\n",
              "      <td>Consumer</td>\n",
              "      <td>United States</td>\n",
              "      <td>Houston</td>\n",
              "      <td>Texas</td>\n",
              "      <td>77041</td>\n",
              "      <td>Central</td>\n",
              "      <td>Office Supplies</td>\n",
              "      <td>Paper</td>\n",
              "      <td>47.952</td>\n",
              "      <td>3</td>\n",
              "      <td>0.2</td>\n",
              "      <td>16.1838</td>\n",
              "    </tr>\n",
              "    <tr>\n",
              "      <th>8095</th>\n",
              "      <td>Second Class</td>\n",
              "      <td>Consumer</td>\n",
              "      <td>United States</td>\n",
              "      <td>Seattle</td>\n",
              "      <td>Washington</td>\n",
              "      <td>98115</td>\n",
              "      <td>West</td>\n",
              "      <td>Office Supplies</td>\n",
              "      <td>Paper</td>\n",
              "      <td>12.960</td>\n",
              "      <td>2</td>\n",
              "      <td>0.0</td>\n",
              "      <td>6.2208</td>\n",
              "    </tr>\n",
              "    <tr>\n",
              "      <th>8457</th>\n",
              "      <td>Second Class</td>\n",
              "      <td>Corporate</td>\n",
              "      <td>United States</td>\n",
              "      <td>Chicago</td>\n",
              "      <td>Illinois</td>\n",
              "      <td>60653</td>\n",
              "      <td>Central</td>\n",
              "      <td>Office Supplies</td>\n",
              "      <td>Binders</td>\n",
              "      <td>3.564</td>\n",
              "      <td>3</td>\n",
              "      <td>0.8</td>\n",
              "      <td>-6.2370</td>\n",
              "    </tr>\n",
              "    <tr>\n",
              "      <th>8533</th>\n",
              "      <td>Standard Class</td>\n",
              "      <td>Consumer</td>\n",
              "      <td>United States</td>\n",
              "      <td>Detroit</td>\n",
              "      <td>Michigan</td>\n",
              "      <td>48227</td>\n",
              "      <td>Central</td>\n",
              "      <td>Furniture</td>\n",
              "      <td>Chairs</td>\n",
              "      <td>389.970</td>\n",
              "      <td>3</td>\n",
              "      <td>0.0</td>\n",
              "      <td>35.0973</td>\n",
              "    </tr>\n",
              "    <tr>\n",
              "      <th>9262</th>\n",
              "      <td>Standard Class</td>\n",
              "      <td>Consumer</td>\n",
              "      <td>United States</td>\n",
              "      <td>Detroit</td>\n",
              "      <td>Michigan</td>\n",
              "      <td>48227</td>\n",
              "      <td>Central</td>\n",
              "      <td>Furniture</td>\n",
              "      <td>Chairs</td>\n",
              "      <td>389.970</td>\n",
              "      <td>3</td>\n",
              "      <td>0.0</td>\n",
              "      <td>35.0973</td>\n",
              "    </tr>\n",
              "    <tr>\n",
              "      <th>9363</th>\n",
              "      <td>Standard Class</td>\n",
              "      <td>Home Office</td>\n",
              "      <td>United States</td>\n",
              "      <td>Seattle</td>\n",
              "      <td>Washington</td>\n",
              "      <td>98105</td>\n",
              "      <td>West</td>\n",
              "      <td>Furniture</td>\n",
              "      <td>Furnishings</td>\n",
              "      <td>22.140</td>\n",
              "      <td>3</td>\n",
              "      <td>0.0</td>\n",
              "      <td>6.4206</td>\n",
              "    </tr>\n",
              "    <tr>\n",
              "      <th>9477</th>\n",
              "      <td>Second Class</td>\n",
              "      <td>Corporate</td>\n",
              "      <td>United States</td>\n",
              "      <td>Chicago</td>\n",
              "      <td>Illinois</td>\n",
              "      <td>60653</td>\n",
              "      <td>Central</td>\n",
              "      <td>Office Supplies</td>\n",
              "      <td>Binders</td>\n",
              "      <td>3.564</td>\n",
              "      <td>3</td>\n",
              "      <td>0.8</td>\n",
              "      <td>-6.2370</td>\n",
              "    </tr>\n",
              "  </tbody>\n",
              "</table>\n",
              "</div>"
            ],
            "text/plain": [
              "           Ship Mode      Segment        Country           City         State  \\\n",
              "568   Standard Class    Corporate  United States        Seattle    Washington   \n",
              "591   Standard Class     Consumer  United States          Salem        Oregon   \n",
              "935   Standard Class  Home Office  United States   Philadelphia  Pennsylvania   \n",
              "950   Standard Class  Home Office  United States   Philadelphia  Pennsylvania   \n",
              "1186  Standard Class    Corporate  United States        Seattle    Washington   \n",
              "1479  Standard Class     Consumer  United States  San Francisco    California   \n",
              "2803  Standard Class     Consumer  United States  San Francisco    California   \n",
              "2807    Second Class     Consumer  United States        Seattle    Washington   \n",
              "2836  Standard Class     Consumer  United States    Los Angeles    California   \n",
              "3127  Standard Class     Consumer  United States  New York City      New York   \n",
              "3405  Standard Class  Home Office  United States       Columbus          Ohio   \n",
              "3406  Standard Class  Home Office  United States       Columbus          Ohio   \n",
              "3412  Standard Class    Corporate  United States  San Francisco    California   \n",
              "3670  Standard Class     Consumer  United States          Salem        Oregon   \n",
              "4117  Standard Class     Consumer  United States    Los Angeles    California   \n",
              "4553  Standard Class     Consumer  United States  San Francisco    California   \n",
              "5372  Standard Class    Corporate  United States        Houston         Texas   \n",
              "5493        Same Day  Home Office  United States  San Francisco    California   \n",
              "5905        Same Day  Home Office  United States  San Francisco    California   \n",
              "6146  Standard Class    Corporate  United States  San Francisco    California   \n",
              "6245  Standard Class  Home Office  United States        Seattle    Washington   \n",
              "6334  Standard Class     Consumer  United States  New York City      New York   \n",
              "6357  Standard Class    Corporate  United States        Seattle    Washington   \n",
              "6409     First Class     Consumer  United States        Houston         Texas   \n",
              "7608  Standard Class     Consumer  United States  San Francisco    California   \n",
              "7735  Standard Class    Corporate  United States        Seattle    Washington   \n",
              "7759  Standard Class    Corporate  United States        Houston         Texas   \n",
              "8032     First Class     Consumer  United States        Houston         Texas   \n",
              "8095    Second Class     Consumer  United States        Seattle    Washington   \n",
              "8457    Second Class    Corporate  United States        Chicago      Illinois   \n",
              "8533  Standard Class     Consumer  United States        Detroit      Michigan   \n",
              "9262  Standard Class     Consumer  United States        Detroit      Michigan   \n",
              "9363  Standard Class  Home Office  United States        Seattle    Washington   \n",
              "9477    Second Class    Corporate  United States        Chicago      Illinois   \n",
              "\n",
              "      Postal Code   Region         Category Sub-Category    Sales  Quantity  \\\n",
              "568         98105     West  Office Supplies        Paper   19.440         3   \n",
              "591         97301     West  Office Supplies        Paper   10.368         2   \n",
              "935         19120     East  Office Supplies        Paper   15.552         3   \n",
              "950         19120     East  Office Supplies        Paper   15.552         3   \n",
              "1186        98103     West  Office Supplies        Paper   25.920         4   \n",
              "1479        94122     West  Office Supplies        Paper   25.920         4   \n",
              "2803        94122     West  Office Supplies        Paper   12.840         3   \n",
              "2807        98115     West  Office Supplies        Paper   12.960         2   \n",
              "2836        90036     West  Office Supplies        Paper   19.440         3   \n",
              "3127        10011     East  Office Supplies        Paper   49.120         4   \n",
              "3405        43229     East        Furniture       Chairs  281.372         2   \n",
              "3406        43229     East        Furniture       Chairs  281.372         2   \n",
              "3412        94122     West  Office Supplies          Art   11.760         4   \n",
              "3670        97301     West  Office Supplies        Paper   10.368         2   \n",
              "4117        90036     West  Office Supplies        Paper   19.440         3   \n",
              "4553        94122     West  Office Supplies        Paper   12.840         3   \n",
              "5372        77041  Central  Office Supplies        Paper   15.552         3   \n",
              "5493        94122     West  Office Supplies       Labels   41.400         4   \n",
              "5905        94122     West  Office Supplies       Labels   41.400         4   \n",
              "6146        94122     West  Office Supplies          Art   11.760         4   \n",
              "6245        98105     West        Furniture  Furnishings   22.140         3   \n",
              "6334        10011     East  Office Supplies        Paper   49.120         4   \n",
              "6357        98103     West  Office Supplies        Paper   25.920         4   \n",
              "6409        77041  Central  Office Supplies        Paper   47.952         3   \n",
              "7608        94122     West  Office Supplies        Paper   25.920         4   \n",
              "7735        98105     West  Office Supplies        Paper   19.440         3   \n",
              "7759        77041  Central  Office Supplies        Paper   15.552         3   \n",
              "8032        77041  Central  Office Supplies        Paper   47.952         3   \n",
              "8095        98115     West  Office Supplies        Paper   12.960         2   \n",
              "8457        60653  Central  Office Supplies      Binders    3.564         3   \n",
              "8533        48227  Central        Furniture       Chairs  389.970         3   \n",
              "9262        48227  Central        Furniture       Chairs  389.970         3   \n",
              "9363        98105     West        Furniture  Furnishings   22.140         3   \n",
              "9477        60653  Central  Office Supplies      Binders    3.564         3   \n",
              "\n",
              "      Discount   Profit  \n",
              "568        0.0   9.3312  \n",
              "591        0.2   3.6288  \n",
              "935        0.2   5.4432  \n",
              "950        0.2   5.4432  \n",
              "1186       0.0  12.4416  \n",
              "1479       0.0  12.4416  \n",
              "2803       0.0   5.7780  \n",
              "2807       0.0   6.2208  \n",
              "2836       0.0   9.3312  \n",
              "3127       0.0  23.0864  \n",
              "3405       0.3 -12.0588  \n",
              "3406       0.3 -12.0588  \n",
              "3412       0.0   3.1752  \n",
              "3670       0.2   3.6288  \n",
              "4117       0.0   9.3312  \n",
              "4553       0.0   5.7780  \n",
              "5372       0.2   5.4432  \n",
              "5493       0.0  19.8720  \n",
              "5905       0.0  19.8720  \n",
              "6146       0.0   3.1752  \n",
              "6245       0.0   6.4206  \n",
              "6334       0.0  23.0864  \n",
              "6357       0.0  12.4416  \n",
              "6409       0.2  16.1838  \n",
              "7608       0.0  12.4416  \n",
              "7735       0.0   9.3312  \n",
              "7759       0.2   5.4432  \n",
              "8032       0.2  16.1838  \n",
              "8095       0.0   6.2208  \n",
              "8457       0.8  -6.2370  \n",
              "8533       0.0  35.0973  \n",
              "9262       0.0  35.0973  \n",
              "9363       0.0   6.4206  \n",
              "9477       0.8  -6.2370  "
            ]
          },
          "execution_count": 7,
          "metadata": {},
          "output_type": "execute_result"
        }
      ],
      "source": [
        "# check duplicated values\n",
        "df[df.duplicated(keep=False)]"
      ]
    },
    {
      "cell_type": "markdown",
      "id": "60422b27",
      "metadata": {
        "papermill": {
          "duration": 0.01196,
          "end_time": "2022-10-03T09:44:03.096814",
          "exception": false,
          "start_time": "2022-10-03T09:44:03.084854",
          "status": "completed"
        },
        "tags": [],
        "id": "60422b27"
      },
      "source": [
        "### There are duplicated values so i will drop those values"
      ]
    },
    {
      "cell_type": "code",
      "execution_count": null,
      "id": "4771dd73",
      "metadata": {
        "execution": {
          "iopub.execute_input": "2022-10-03T09:44:03.127104Z",
          "iopub.status.busy": "2022-10-03T09:44:03.125539Z",
          "iopub.status.idle": "2022-10-03T09:44:03.144126Z",
          "shell.execute_reply": "2022-10-03T09:44:03.142959Z"
        },
        "papermill": {
          "duration": 0.037097,
          "end_time": "2022-10-03T09:44:03.147419",
          "exception": false,
          "start_time": "2022-10-03T09:44:03.110322",
          "status": "completed"
        },
        "tags": [],
        "id": "4771dd73"
      },
      "outputs": [],
      "source": [
        "# drop duplicated values\n",
        "df.drop_duplicates(inplace=True)"
      ]
    },
    {
      "cell_type": "markdown",
      "id": "2ac714c4",
      "metadata": {
        "id": "2ac714c4"
      },
      "source": [
        "### Checking unique values in country column"
      ]
    },
    {
      "cell_type": "code",
      "execution_count": null,
      "id": "dac29679",
      "metadata": {
        "execution": {
          "iopub.execute_input": "2022-10-03T09:44:03.177545Z",
          "iopub.status.busy": "2022-10-03T09:44:03.177062Z",
          "iopub.status.idle": "2022-10-03T09:44:03.185995Z",
          "shell.execute_reply": "2022-10-03T09:44:03.185004Z"
        },
        "papermill": {
          "duration": 0.027107,
          "end_time": "2022-10-03T09:44:03.188628",
          "exception": false,
          "start_time": "2022-10-03T09:44:03.161521",
          "status": "completed"
        },
        "tags": [],
        "id": "dac29679",
        "outputId": "ebb56683-8130-433e-b0c1-0efbd760be76"
      },
      "outputs": [
        {
          "data": {
            "text/plain": [
              "array(['United States'], dtype=object)"
            ]
          },
          "execution_count": 9,
          "metadata": {},
          "output_type": "execute_result"
        }
      ],
      "source": [
        "df['Country'].unique()"
      ]
    },
    {
      "cell_type": "markdown",
      "id": "955d7eb5",
      "metadata": {
        "id": "955d7eb5"
      },
      "source": [
        "#### In country column only united states is there so the postal code also same so i am going to drop those columns"
      ]
    },
    {
      "cell_type": "code",
      "execution_count": null,
      "id": "5735ee70",
      "metadata": {
        "execution": {
          "iopub.execute_input": "2022-10-03T09:44:03.219828Z",
          "iopub.status.busy": "2022-10-03T09:44:03.218501Z",
          "iopub.status.idle": "2022-10-03T09:44:03.226877Z",
          "shell.execute_reply": "2022-10-03T09:44:03.225649Z"
        },
        "papermill": {
          "duration": 0.027028,
          "end_time": "2022-10-03T09:44:03.230130",
          "exception": false,
          "start_time": "2022-10-03T09:44:03.203102",
          "status": "completed"
        },
        "tags": [],
        "id": "5735ee70"
      },
      "outputs": [],
      "source": [
        "# drop useless features like country because it contain only US and postal code\n",
        "df.drop(['Country', 'Postal Code'], axis=1,inplace=True)"
      ]
    },
    {
      "cell_type": "code",
      "execution_count": null,
      "id": "c3f8f4d0",
      "metadata": {
        "execution": {
          "iopub.execute_input": "2022-10-03T09:44:03.259833Z",
          "iopub.status.busy": "2022-10-03T09:44:03.259401Z",
          "iopub.status.idle": "2022-10-03T09:44:03.278540Z",
          "shell.execute_reply": "2022-10-03T09:44:03.277249Z"
        },
        "papermill": {
          "duration": 0.036888,
          "end_time": "2022-10-03T09:44:03.281276",
          "exception": false,
          "start_time": "2022-10-03T09:44:03.244388",
          "status": "completed"
        },
        "tags": [],
        "id": "c3f8f4d0",
        "outputId": "f15e369b-c68e-4bea-df55-ca2808ad1770"
      },
      "outputs": [
        {
          "data": {
            "text/html": [
              "<div>\n",
              "<style scoped>\n",
              "    .dataframe tbody tr th:only-of-type {\n",
              "        vertical-align: middle;\n",
              "    }\n",
              "\n",
              "    .dataframe tbody tr th {\n",
              "        vertical-align: top;\n",
              "    }\n",
              "\n",
              "    .dataframe thead th {\n",
              "        text-align: right;\n",
              "    }\n",
              "</style>\n",
              "<table border=\"1\" class=\"dataframe\">\n",
              "  <thead>\n",
              "    <tr style=\"text-align: right;\">\n",
              "      <th></th>\n",
              "      <th>Ship Mode</th>\n",
              "      <th>Segment</th>\n",
              "      <th>City</th>\n",
              "      <th>State</th>\n",
              "      <th>Region</th>\n",
              "      <th>Category</th>\n",
              "      <th>Sub-Category</th>\n",
              "      <th>Sales</th>\n",
              "      <th>Quantity</th>\n",
              "      <th>Discount</th>\n",
              "      <th>Profit</th>\n",
              "    </tr>\n",
              "  </thead>\n",
              "  <tbody>\n",
              "    <tr>\n",
              "      <th>0</th>\n",
              "      <td>Second Class</td>\n",
              "      <td>Consumer</td>\n",
              "      <td>Henderson</td>\n",
              "      <td>Kentucky</td>\n",
              "      <td>South</td>\n",
              "      <td>Furniture</td>\n",
              "      <td>Bookcases</td>\n",
              "      <td>261.9600</td>\n",
              "      <td>2</td>\n",
              "      <td>0.00</td>\n",
              "      <td>41.9136</td>\n",
              "    </tr>\n",
              "    <tr>\n",
              "      <th>1</th>\n",
              "      <td>Second Class</td>\n",
              "      <td>Consumer</td>\n",
              "      <td>Henderson</td>\n",
              "      <td>Kentucky</td>\n",
              "      <td>South</td>\n",
              "      <td>Furniture</td>\n",
              "      <td>Chairs</td>\n",
              "      <td>731.9400</td>\n",
              "      <td>3</td>\n",
              "      <td>0.00</td>\n",
              "      <td>219.5820</td>\n",
              "    </tr>\n",
              "    <tr>\n",
              "      <th>2</th>\n",
              "      <td>Second Class</td>\n",
              "      <td>Corporate</td>\n",
              "      <td>Los Angeles</td>\n",
              "      <td>California</td>\n",
              "      <td>West</td>\n",
              "      <td>Office Supplies</td>\n",
              "      <td>Labels</td>\n",
              "      <td>14.6200</td>\n",
              "      <td>2</td>\n",
              "      <td>0.00</td>\n",
              "      <td>6.8714</td>\n",
              "    </tr>\n",
              "    <tr>\n",
              "      <th>3</th>\n",
              "      <td>Standard Class</td>\n",
              "      <td>Consumer</td>\n",
              "      <td>Fort Lauderdale</td>\n",
              "      <td>Florida</td>\n",
              "      <td>South</td>\n",
              "      <td>Furniture</td>\n",
              "      <td>Tables</td>\n",
              "      <td>957.5775</td>\n",
              "      <td>5</td>\n",
              "      <td>0.45</td>\n",
              "      <td>-383.0310</td>\n",
              "    </tr>\n",
              "    <tr>\n",
              "      <th>4</th>\n",
              "      <td>Standard Class</td>\n",
              "      <td>Consumer</td>\n",
              "      <td>Fort Lauderdale</td>\n",
              "      <td>Florida</td>\n",
              "      <td>South</td>\n",
              "      <td>Office Supplies</td>\n",
              "      <td>Storage</td>\n",
              "      <td>22.3680</td>\n",
              "      <td>2</td>\n",
              "      <td>0.20</td>\n",
              "      <td>2.5164</td>\n",
              "    </tr>\n",
              "  </tbody>\n",
              "</table>\n",
              "</div>"
            ],
            "text/plain": [
              "        Ship Mode    Segment             City       State Region  \\\n",
              "0    Second Class   Consumer        Henderson    Kentucky  South   \n",
              "1    Second Class   Consumer        Henderson    Kentucky  South   \n",
              "2    Second Class  Corporate      Los Angeles  California   West   \n",
              "3  Standard Class   Consumer  Fort Lauderdale     Florida  South   \n",
              "4  Standard Class   Consumer  Fort Lauderdale     Florida  South   \n",
              "\n",
              "          Category Sub-Category     Sales  Quantity  Discount    Profit  \n",
              "0        Furniture    Bookcases  261.9600         2      0.00   41.9136  \n",
              "1        Furniture       Chairs  731.9400         3      0.00  219.5820  \n",
              "2  Office Supplies       Labels   14.6200         2      0.00    6.8714  \n",
              "3        Furniture       Tables  957.5775         5      0.45 -383.0310  \n",
              "4  Office Supplies      Storage   22.3680         2      0.20    2.5164  "
            ]
          },
          "execution_count": 11,
          "metadata": {},
          "output_type": "execute_result"
        }
      ],
      "source": [
        "# look again to dataset\n",
        "df.head()"
      ]
    },
    {
      "cell_type": "markdown",
      "id": "92df2c0f",
      "metadata": {
        "papermill": {
          "duration": 0.013503,
          "end_time": "2022-10-03T09:44:03.307997",
          "exception": false,
          "start_time": "2022-10-03T09:44:03.294494",
          "status": "completed"
        },
        "tags": [],
        "id": "92df2c0f"
      },
      "source": [
        "<a id='eda'></a>\n",
        "## Exploratory Data Analysis"
      ]
    },
    {
      "cell_type": "code",
      "execution_count": null,
      "id": "60d20eaf",
      "metadata": {
        "execution": {
          "iopub.execute_input": "2022-10-03T09:44:03.338721Z",
          "iopub.status.busy": "2022-10-03T09:44:03.338270Z",
          "iopub.status.idle": "2022-10-03T09:44:03.674031Z",
          "shell.execute_reply": "2022-10-03T09:44:03.672300Z"
        },
        "papermill": {
          "duration": 0.354304,
          "end_time": "2022-10-03T09:44:03.677170",
          "exception": false,
          "start_time": "2022-10-03T09:44:03.322866",
          "status": "completed"
        },
        "tags": [],
        "id": "60d20eaf",
        "outputId": "d747923a-d273-4e15-e9c1-ba490c05a3eb"
      },
      "outputs": [
        {
          "data": {
            "image/png": "[encoded data removed]",
            "text/plain": [
              "<Figure size 432x288 with 2 Axes>"
            ]
          },
          "metadata": {
            "needs_background": "light"
          },
          "output_type": "display_data"
        }
      ],
      "source": [
        "# check correlation\n",
        "sns.heatmap(df.corr(), linecolor='w');"
      ]
    },
    {
      "cell_type": "markdown",
      "id": "b434c7e0",
      "metadata": {
        "papermill": {
          "duration": 0.012526,
          "end_time": "2022-10-03T09:44:03.703066",
          "exception": false,
          "start_time": "2022-10-03T09:44:03.690540",
          "status": "completed"
        },
        "tags": [],
        "id": "b434c7e0"
      },
      "source": [
        "we notice there's correlation between (profit, discount) and (profit, sales) and (quantity, sales)"
      ]
    },
    {
      "cell_type": "markdown",
      "id": "f950bccf",
      "metadata": {
        "papermill": {
          "duration": 0.012569,
          "end_time": "2022-10-03T09:44:03.728777",
          "exception": false,
          "start_time": "2022-10-03T09:44:03.716208",
          "status": "completed"
        },
        "tags": [],
        "id": "f950bccf"
      },
      "source": [
        "## Check profit, sales and discount"
      ]
    },
    {
      "cell_type": "markdown",
      "id": "7667d31b",
      "metadata": {
        "papermill": {
          "duration": 0.012337,
          "end_time": "2022-10-03T09:44:03.753901",
          "exception": false,
          "start_time": "2022-10-03T09:44:03.741564",
          "status": "completed"
        },
        "tags": [],
        "id": "7667d31b"
      },
      "source": [
        "### For each region"
      ]
    },
    {
      "cell_type": "code",
      "execution_count": null,
      "id": "502ef9fe",
      "metadata": {
        "execution": {
          "iopub.execute_input": "2022-10-03T09:44:03.781182Z",
          "iopub.status.busy": "2022-10-03T09:44:03.780765Z",
          "iopub.status.idle": "2022-10-03T09:44:04.843260Z",
          "shell.execute_reply": "2022-10-03T09:44:04.841703Z"
        },
        "papermill": {
          "duration": 1.079872,
          "end_time": "2022-10-03T09:44:04.846381",
          "exception": false,
          "start_time": "2022-10-03T09:44:03.766509",
          "status": "completed"
        },
        "tags": [],
        "id": "502ef9fe",
        "outputId": "26c610d7-7d6d-4cd1-d274-a9c3d0f6a122"
      },
      "outputs": [
        {
          "data": {
            "image/png": "[encoded data removed]",
            "text/plain": [
              "<Figure size 1080x360 with 3 Axes>"
            ]
          },
          "metadata": {
            "needs_background": "light"
          },
          "output_type": "display_data"
        }
      ],
      "source": [
        "fig, ax = plt.subplots(1, 3, figsize=(15, 5))\n",
        "sns.barplot(x='Region', y='Profit', data=df, ax=ax[0])\n",
        "sns.barplot(x='Region', y='Sales', data=df, ax=ax[1])\n",
        "sns.barplot(x='Region', y='Discount', data=df, ax=ax[2])\n",
        "plt.show()"
      ]
    },
    {
      "cell_type": "markdown",
      "id": "229bb8ef",
      "metadata": {
        "papermill": {
          "duration": 0.0148,
          "end_time": "2022-10-03T09:44:04.876040",
          "exception": false,
          "start_time": "2022-10-03T09:44:04.861240",
          "status": "completed"
        },
        "tags": [],
        "id": "229bb8ef"
      },
      "source": [
        "- West region has the highest profit and find same region has the lowest discount\n",
        "- South has the highest sales\n",
        "- Central has the lowest profit and has the highest discount maybe that's the reason"
      ]
    },
    {
      "cell_type": "markdown",
      "id": "a08f5f47",
      "metadata": {
        "papermill": {
          "duration": 0.014138,
          "end_time": "2022-10-03T09:44:04.905600",
          "exception": false,
          "start_time": "2022-10-03T09:44:04.891462",
          "status": "completed"
        },
        "tags": [],
        "id": "a08f5f47"
      },
      "source": [
        "### For each category"
      ]
    },
    {
      "cell_type": "code",
      "execution_count": null,
      "id": "8f3fe747",
      "metadata": {
        "execution": {
          "iopub.execute_input": "2022-10-03T09:44:04.937627Z",
          "iopub.status.busy": "2022-10-03T09:44:04.936940Z",
          "iopub.status.idle": "2022-10-03T09:44:05.877915Z",
          "shell.execute_reply": "2022-10-03T09:44:05.876355Z"
        },
        "papermill": {
          "duration": 0.961829,
          "end_time": "2022-10-03T09:44:05.881651",
          "exception": false,
          "start_time": "2022-10-03T09:44:04.919822",
          "status": "completed"
        },
        "tags": [],
        "id": "8f3fe747",
        "outputId": "f6e1350a-f4c2-465e-dfad-5b9f0a0195c9"
      },
      "outputs": [
        {
          "data": {
            "image/png": "[encoded data removed]",
            "text/plain": [
              "<Figure size 1080x360 with 3 Axes>"
            ]
          },
          "metadata": {
            "needs_background": "light"
          },
          "output_type": "display_data"
        }
      ],
      "source": [
        "fig, ax = plt.subplots(1, 3, figsize=(15, 5))\n",
        "sns.barplot(x='Category', y='Profit', data=df, ax=ax[0])\n",
        "sns.barplot(x='Category', y='Sales', data=df, ax=ax[1])\n",
        "sns.barplot(x='Category', y='Discount', data=df, ax=ax[2])\n",
        "plt.show()"
      ]
    },
    {
      "cell_type": "markdown",
      "id": "2f1d03dc",
      "metadata": {
        "papermill": {
          "duration": 0.014556,
          "end_time": "2022-10-03T09:44:05.911370",
          "exception": false,
          "start_time": "2022-10-03T09:44:05.896814",
          "status": "completed"
        },
        "tags": [],
        "id": "2f1d03dc"
      },
      "source": [
        "- Furniture sales is high but has very low profit maybe high discount is the reason"
      ]
    },
    {
      "cell_type": "markdown",
      "id": "e8bf9b6a",
      "metadata": {
        "papermill": {
          "duration": 0.015731,
          "end_time": "2022-10-03T09:44:05.941618",
          "exception": false,
          "start_time": "2022-10-03T09:44:05.925887",
          "status": "completed"
        },
        "tags": [],
        "id": "e8bf9b6a"
      },
      "source": [
        "### For each Segment"
      ]
    },
    {
      "cell_type": "code",
      "execution_count": null,
      "id": "f1d8376a",
      "metadata": {
        "execution": {
          "iopub.execute_input": "2022-10-03T09:44:05.974634Z",
          "iopub.status.busy": "2022-10-03T09:44:05.974138Z",
          "iopub.status.idle": "2022-10-03T09:44:06.923327Z",
          "shell.execute_reply": "2022-10-03T09:44:06.921715Z"
        },
        "papermill": {
          "duration": 0.969454,
          "end_time": "2022-10-03T09:44:06.926564",
          "exception": false,
          "start_time": "2022-10-03T09:44:05.957110",
          "status": "completed"
        },
        "tags": [],
        "id": "f1d8376a",
        "outputId": "3e64dfaf-4a85-4bf5-de94-e09825531795"
      },
      "outputs": [
        {
          "data": {
            "image/png": "[encoded data removed]",
            "text/plain": [
              "<Figure size 1080x360 with 3 Axes>"
            ]
          },
          "metadata": {
            "needs_background": "light"
          },
          "output_type": "display_data"
        }
      ],
      "source": [
        "fig, ax = plt.subplots(1, 3, figsize=(15, 5))\n",
        "sns.barplot(x='Segment', y='Profit', data=df, ax=ax[0])\n",
        "sns.barplot(x='Segment', y='Sales', data=df, ax=ax[1])\n",
        "sns.barplot(x='Segment', y='Discount', data=df, ax=ax[2])\n",
        "plt.show()"
      ]
    },
    {
      "cell_type": "markdown",
      "id": "ff65e352",
      "metadata": {
        "papermill": {
          "duration": 0.015416,
          "end_time": "2022-10-03T09:44:06.957083",
          "exception": false,
          "start_time": "2022-10-03T09:44:06.941667",
          "status": "completed"
        },
        "tags": [],
        "id": "ff65e352"
      },
      "source": [
        "- Home Office has the lowest dicount but has also the highest profit as sales"
      ]
    },
    {
      "cell_type": "markdown",
      "id": "e5b63679",
      "metadata": {
        "papermill": {
          "duration": 0.01807,
          "end_time": "2022-10-03T09:44:06.990637",
          "exception": false,
          "start_time": "2022-10-03T09:44:06.972567",
          "status": "completed"
        },
        "tags": [],
        "id": "e5b63679"
      },
      "source": [
        "### For each shipe mode"
      ]
    },
    {
      "cell_type": "code",
      "execution_count": null,
      "id": "28d5cda6",
      "metadata": {
        "execution": {
          "iopub.execute_input": "2022-10-03T09:44:07.030166Z",
          "iopub.status.busy": "2022-10-03T09:44:07.029721Z",
          "iopub.status.idle": "2022-10-03T09:44:08.144111Z",
          "shell.execute_reply": "2022-10-03T09:44:08.142333Z"
        },
        "papermill": {
          "duration": 1.135028,
          "end_time": "2022-10-03T09:44:08.147375",
          "exception": false,
          "start_time": "2022-10-03T09:44:07.012347",
          "status": "completed"
        },
        "tags": [],
        "id": "28d5cda6",
        "outputId": "87c05ac2-b6b7-4831-b825-305beaffaf83"
      },
      "outputs": [
        {
          "data": {
            "image/png": "[encoded data removed]",
            "text/plain": [
              "<Figure size 1296x360 with 3 Axes>"
            ]
          },
          "metadata": {
            "needs_background": "light"
          },
          "output_type": "display_data"
        }
      ],
      "source": [
        "fig, ax = plt.subplots(1, 3, figsize=(18, 5))\n",
        "sns.barplot(x='Ship Mode', y='Profit', data=df, ax=ax[0])\n",
        "sns.barplot(x='Ship Mode', y='Sales', data=df, ax=ax[1])\n",
        "sns.barplot(x='Ship Mode', y='Discount', data=df, ax=ax[2])\n",
        "plt.show()"
      ]
    },
    {
      "cell_type": "markdown",
      "id": "f77dc225",
      "metadata": {
        "papermill": {
          "duration": 0.015864,
          "end_time": "2022-10-03T09:44:08.178090",
          "exception": false,
          "start_time": "2022-10-03T09:44:08.162226",
          "status": "completed"
        },
        "tags": [],
        "id": "f77dc225"
      },
      "source": [
        "- Same day shipping has the highest sales\n",
        "- First class has highest discount but also highest profit"
      ]
    },
    {
      "cell_type": "markdown",
      "id": "816a8857",
      "metadata": {
        "papermill": {
          "duration": 0.014544,
          "end_time": "2022-10-03T09:44:08.207200",
          "exception": false,
          "start_time": "2022-10-03T09:44:08.192656",
          "status": "completed"
        },
        "tags": [],
        "id": "816a8857"
      },
      "source": [
        "### For quantity"
      ]
    },
    {
      "cell_type": "code",
      "execution_count": null,
      "id": "52c8a1b1",
      "metadata": {
        "execution": {
          "iopub.execute_input": "2022-10-03T09:44:08.238613Z",
          "iopub.status.busy": "2022-10-03T09:44:08.238100Z",
          "iopub.status.idle": "2022-10-03T09:44:10.292219Z",
          "shell.execute_reply": "2022-10-03T09:44:10.290677Z"
        },
        "papermill": {
          "duration": 2.073523,
          "end_time": "2022-10-03T09:44:10.295093",
          "exception": false,
          "start_time": "2022-10-03T09:44:08.221570",
          "status": "completed"
        },
        "tags": [],
        "id": "52c8a1b1",
        "outputId": "6db17382-286e-4921-9888-9bee12484d29"
      },
      "outputs": [
        {
          "data": {
            "image/png": "[encoded data removed]",
            "text/plain": [
              "<Figure size 1296x360 with 3 Axes>"
            ]
          },
          "metadata": {
            "needs_background": "light"
          },
          "output_type": "display_data"
        }
      ],
      "source": [
        "fig, ax = plt.subplots(1, 3, figsize=(18, 5))\n",
        "sns.barplot(x='Quantity', y='Profit', data=df, ax=ax[0])\n",
        "sns.barplot(x='Quantity', y='Sales', data=df, ax=ax[1])\n",
        "sns.barplot(x='Quantity', y='Discount', data=df, ax=ax[2])\n",
        "plt.show()"
      ]
    },
    {
      "cell_type": "markdown",
      "id": "d8822452",
      "metadata": {
        "papermill": {
          "duration": 0.016198,
          "end_time": "2022-10-03T09:44:10.327245",
          "exception": false,
          "start_time": "2022-10-03T09:44:10.311047",
          "status": "completed"
        },
        "tags": [],
        "id": "d8822452"
      },
      "source": [
        "- quantity 13 is the highest in sales and profit but number 10 is the highest in discount and gain lower profit\n",
        "- we need to balance between quantity and discount"
      ]
    },
    {
      "cell_type": "markdown",
      "id": "c6fc6629",
      "metadata": {
        "papermill": {
          "duration": 0.015348,
          "end_time": "2022-10-03T09:44:10.358341",
          "exception": false,
          "start_time": "2022-10-03T09:44:10.342993",
          "status": "completed"
        },
        "tags": [],
        "id": "c6fc6629"
      },
      "source": [
        "## check discount with sales and profit"
      ]
    },
    {
      "cell_type": "code",
      "execution_count": null,
      "id": "341da3ec",
      "metadata": {
        "execution": {
          "iopub.execute_input": "2022-10-03T09:44:10.392407Z",
          "iopub.status.busy": "2022-10-03T09:44:10.391808Z",
          "iopub.status.idle": "2022-10-03T09:44:11.583059Z",
          "shell.execute_reply": "2022-10-03T09:44:11.581596Z"
        },
        "papermill": {
          "duration": 1.212545,
          "end_time": "2022-10-03T09:44:11.586496",
          "exception": false,
          "start_time": "2022-10-03T09:44:10.373951",
          "status": "completed"
        },
        "tags": [],
        "id": "341da3ec",
        "outputId": "21c98385-1e25-4cd5-d5ef-1dd62435c2e9"
      },
      "outputs": [
        {
          "data": {
            "image/png": "[encoded data removed]",
            "text/plain": [
              "<Figure size 1080x360 with 2 Axes>"
            ]
          },
          "metadata": {
            "needs_background": "light"
          },
          "output_type": "display_data"
        }
      ],
      "source": [
        "fig, ax = plt.subplots(1, 2, figsize=(15, 5))\n",
        "sns.barplot(x='Discount', y='Sales', data=df, ax=ax[0])\n",
        "sns.barplot(x='Discount', y='Profit', data=df, ax=ax[1])\n",
        "plt.show()"
      ]
    },
    {
      "cell_type": "markdown",
      "id": "82a4a70e",
      "metadata": {
        "papermill": {
          "duration": 0.018201,
          "end_time": "2022-10-03T09:44:11.623765",
          "exception": false,
          "start_time": "2022-10-03T09:44:11.605564",
          "status": "completed"
        },
        "tags": [],
        "id": "82a4a70e"
      },
      "source": [
        "- We note that when the discount is high, the profit is negative"
      ]
    },
    {
      "cell_type": "markdown",
      "id": "04b03667",
      "metadata": {
        "papermill": {
          "duration": 0.016912,
          "end_time": "2022-10-03T09:44:11.657696",
          "exception": false,
          "start_time": "2022-10-03T09:44:11.640784",
          "status": "completed"
        },
        "tags": [],
        "id": "04b03667"
      },
      "source": [
        "## Check Category and Sub-Category"
      ]
    },
    {
      "cell_type": "markdown",
      "id": "0b3f01e6",
      "metadata": {
        "papermill": {
          "duration": 0.016541,
          "end_time": "2022-10-03T09:44:11.690447",
          "exception": false,
          "start_time": "2022-10-03T09:44:11.673906",
          "status": "completed"
        },
        "tags": [],
        "id": "0b3f01e6"
      },
      "source": [
        "### check number of each category"
      ]
    },
    {
      "cell_type": "code",
      "execution_count": null,
      "id": "378aaa18",
      "metadata": {
        "execution": {
          "iopub.execute_input": "2022-10-03T09:44:11.725354Z",
          "iopub.status.busy": "2022-10-03T09:44:11.724881Z",
          "iopub.status.idle": "2022-10-03T09:44:11.937096Z",
          "shell.execute_reply": "2022-10-03T09:44:11.935645Z"
        },
        "papermill": {
          "duration": 0.233499,
          "end_time": "2022-10-03T09:44:11.940227",
          "exception": false,
          "start_time": "2022-10-03T09:44:11.706728",
          "status": "completed"
        },
        "tags": [],
        "id": "378aaa18",
        "outputId": "1aab221e-df46-43a7-842c-0ee41b6c9a06"
      },
      "outputs": [
        {
          "data": {
            "image/png": "[encoded data removed]",
            "text/plain": [
              "<Figure size 432x288 with 1 Axes>"
            ]
          },
          "metadata": {
            "needs_background": "light"
          },
          "output_type": "display_data"
        }
      ],
      "source": [
        "sns.countplot(x='Category', data=df, order=df['Category'].value_counts().index);"
      ]
    },
    {
      "cell_type": "markdown",
      "id": "13315c2d",
      "metadata": {
        "papermill": {
          "duration": 0.015235,
          "end_time": "2022-10-03T09:44:11.971413",
          "exception": false,
          "start_time": "2022-10-03T09:44:11.956178",
          "status": "completed"
        },
        "tags": [],
        "id": "13315c2d"
      },
      "source": [
        "- Office Supplies has the highest number"
      ]
    },
    {
      "cell_type": "markdown",
      "id": "8418bc6f",
      "metadata": {
        "papermill": {
          "duration": 0.015379,
          "end_time": "2022-10-03T09:44:12.002238",
          "exception": false,
          "start_time": "2022-10-03T09:44:11.986859",
          "status": "completed"
        },
        "tags": [],
        "id": "8418bc6f"
      },
      "source": [
        "### check number of each sub-category"
      ]
    },
    {
      "cell_type": "code",
      "execution_count": null,
      "id": "aafdfff1",
      "metadata": {
        "execution": {
          "iopub.execute_input": "2022-10-03T09:44:12.037355Z",
          "iopub.status.busy": "2022-10-03T09:44:12.036714Z",
          "iopub.status.idle": "2022-10-03T09:44:12.342062Z",
          "shell.execute_reply": "2022-10-03T09:44:12.340665Z"
        },
        "papermill": {
          "duration": 0.326567,
          "end_time": "2022-10-03T09:44:12.345222",
          "exception": false,
          "start_time": "2022-10-03T09:44:12.018655",
          "status": "completed"
        },
        "tags": [],
        "id": "aafdfff1",
        "outputId": "b67053f3-ce85-47a7-f311-e2fa7fc0381c"
      },
      "outputs": [
        {
          "data": {
            "image/png": "[encoded data removed]",
            "text/plain": [
              "<Figure size 1080x360 with 1 Axes>"
            ]
          },
          "metadata": {
            "needs_background": "light"
          },
          "output_type": "display_data"
        }
      ],
      "source": [
        "plt.figure(figsize=(15, 5))\n",
        "sns.countplot(x='Sub-Category', data=df, order=df['Sub-Category'].value_counts().index);\n",
        "plt.xticks(rotation=90);\n",
        "plt.show()"
      ]
    },
    {
      "cell_type": "markdown",
      "id": "369dd354",
      "metadata": {
        "papermill": {
          "duration": 0.016596,
          "end_time": "2022-10-03T09:44:12.378714",
          "exception": false,
          "start_time": "2022-10-03T09:44:12.362118",
          "status": "completed"
        },
        "tags": [],
        "id": "369dd354"
      },
      "source": [
        "- Sales of Binders as Paper are the highest"
      ]
    },
    {
      "cell_type": "markdown",
      "id": "0cdc6611",
      "metadata": {
        "papermill": {
          "duration": 0.015695,
          "end_time": "2022-10-03T09:44:12.410489",
          "exception": false,
          "start_time": "2022-10-03T09:44:12.394794",
          "status": "completed"
        },
        "tags": [],
        "id": "0cdc6611"
      },
      "source": [
        "### check category with discount and profit"
      ]
    },
    {
      "cell_type": "code",
      "execution_count": null,
      "id": "f0475834",
      "metadata": {
        "execution": {
          "iopub.execute_input": "2022-10-03T09:44:12.444272Z",
          "iopub.status.busy": "2022-10-03T09:44:12.443875Z",
          "iopub.status.idle": "2022-10-03T09:44:13.046910Z",
          "shell.execute_reply": "2022-10-03T09:44:13.045797Z"
        },
        "papermill": {
          "duration": 0.623253,
          "end_time": "2022-10-03T09:44:13.049567",
          "exception": false,
          "start_time": "2022-10-03T09:44:12.426314",
          "status": "completed"
        },
        "tags": [],
        "id": "f0475834",
        "outputId": "5c933836-afc1-4c77-c3d8-86726329957d"
      },
      "outputs": [
        {
          "data": {
            "image/png": "[encoded data removed]",
            "text/plain": [
              "<Figure size 720x360 with 1 Axes>"
            ]
          },
          "metadata": {
            "needs_background": "light"
          },
          "output_type": "display_data"
        }
      ],
      "source": [
        "fig, ax = plt.subplots(figsize=(10, 5))\n",
        "sns.scatterplot(x='Discount', y='Profit', hue='Category', data=df);\n",
        "ax.legend(fontsize=12)\n",
        "plt.show()"
      ]
    },
    {
      "cell_type": "markdown",
      "id": "42db7d00",
      "metadata": {
        "papermill": {
          "duration": 0.01626,
          "end_time": "2022-10-03T09:44:13.082671",
          "exception": false,
          "start_time": "2022-10-03T09:44:13.066411",
          "status": "completed"
        },
        "tags": [],
        "id": "42db7d00"
      },
      "source": [
        "- Office Supplies has maximum loss at 80% discount\n",
        "- Furniture and Technology have maximum loss between 30% to 50%\n",
        "- Technology also has maximum loss profit at 70%"
      ]
    },
    {
      "cell_type": "markdown",
      "id": "50b38e51",
      "metadata": {
        "papermill": {
          "duration": 0.016138,
          "end_time": "2022-10-03T09:44:13.116627",
          "exception": false,
          "start_time": "2022-10-03T09:44:13.100489",
          "status": "completed"
        },
        "tags": [],
        "id": "50b38e51"
      },
      "source": [
        "### check Sub-category with profit"
      ]
    },
    {
      "cell_type": "code",
      "execution_count": null,
      "id": "1ef92d0d",
      "metadata": {
        "execution": {
          "iopub.execute_input": "2022-10-03T09:44:13.152905Z",
          "iopub.status.busy": "2022-10-03T09:44:13.151474Z",
          "iopub.status.idle": "2022-10-03T09:44:14.107574Z",
          "shell.execute_reply": "2022-10-03T09:44:14.106568Z"
        },
        "papermill": {
          "duration": 0.977683,
          "end_time": "2022-10-03T09:44:14.110759",
          "exception": false,
          "start_time": "2022-10-03T09:44:13.133076",
          "status": "completed"
        },
        "tags": [],
        "id": "1ef92d0d",
        "outputId": "7e631636-f008-4806-cfde-9c467cfc261f"
      },
      "outputs": [
        {
          "data": {
            "image/png": "[encoded data removed]",
            "text/plain": [
              "<Figure size 1080x360 with 1 Axes>"
            ]
          },
          "metadata": {
            "needs_background": "light"
          },
          "output_type": "display_data"
        }
      ],
      "source": [
        "fig, ax = plt.subplots(figsize=(15, 5))\n",
        "sns.barplot(x='Sub-Category', y='Profit', data=df);\n",
        "plt.xticks(rotation=90)\n",
        "ax.bar_label(ax.containers[0])\n",
        "plt.show()"
      ]
    },
    {
      "cell_type": "markdown",
      "id": "8b105957",
      "metadata": {
        "papermill": {
          "duration": 0.018175,
          "end_time": "2022-10-03T09:44:14.147654",
          "exception": false,
          "start_time": "2022-10-03T09:44:14.129479",
          "status": "completed"
        },
        "tags": [],
        "id": "8b105957"
      },
      "source": [
        "Tables and Supplies and Bookases have negative profit"
      ]
    },
    {
      "cell_type": "markdown",
      "id": "1e8dbf9e",
      "metadata": {
        "papermill": {
          "duration": 0.018778,
          "end_time": "2022-10-03T09:44:14.187637",
          "exception": false,
          "start_time": "2022-10-03T09:44:14.168859",
          "status": "completed"
        },
        "tags": [],
        "id": "1e8dbf9e"
      },
      "source": [
        "## Analysis states"
      ]
    },
    {
      "cell_type": "code",
      "execution_count": null,
      "id": "63ca82b6",
      "metadata": {
        "execution": {
          "iopub.execute_input": "2022-10-03T09:44:14.224052Z",
          "iopub.status.busy": "2022-10-03T09:44:14.223610Z",
          "iopub.status.idle": "2022-10-03T09:44:14.237931Z",
          "shell.execute_reply": "2022-10-03T09:44:14.236773Z"
        },
        "papermill": {
          "duration": 0.035883,
          "end_time": "2022-10-03T09:44:14.240739",
          "exception": false,
          "start_time": "2022-10-03T09:44:14.204856",
          "status": "completed"
        },
        "tags": [],
        "id": "63ca82b6"
      },
      "outputs": [],
      "source": [
        "# group by with each state\n",
        "states = df.groupby('State').sum().sort_values('Sales', ascending=False)\n",
        "states.reset_index(inplace=True)"
      ]
    },
    {
      "cell_type": "markdown",
      "id": "cf2ebfed",
      "metadata": {
        "papermill": {
          "duration": 0.017004,
          "end_time": "2022-10-03T09:44:14.275965",
          "exception": false,
          "start_time": "2022-10-03T09:44:14.258961",
          "status": "completed"
        },
        "tags": [],
        "id": "cf2ebfed"
      },
      "source": [
        "### check sales"
      ]
    },
    {
      "cell_type": "code",
      "execution_count": null,
      "id": "739d608c",
      "metadata": {
        "execution": {
          "iopub.execute_input": "2022-10-03T09:44:14.313217Z",
          "iopub.status.busy": "2022-10-03T09:44:14.312331Z",
          "iopub.status.idle": "2022-10-03T09:44:15.002778Z",
          "shell.execute_reply": "2022-10-03T09:44:15.000715Z"
        },
        "papermill": {
          "duration": 0.713525,
          "end_time": "2022-10-03T09:44:15.006966",
          "exception": false,
          "start_time": "2022-10-03T09:44:14.293441",
          "status": "completed"
        },
        "tags": [],
        "id": "739d608c",
        "outputId": "b030beef-b036-4e61-b13e-f8dfd3756138"
      },
      "outputs": [
        {
          "data": {
            "image/png": "[encoded data removed]",
            "text/plain": [
              "<Figure size 1080x360 with 1 Axes>"
            ]
          },
          "metadata": {
            "needs_background": "light"
          },
          "output_type": "display_data"
        }
      ],
      "source": [
        "fig, ax = plt.subplots(figsize=(15, 5))\n",
        "sns.barplot(x='State', y='Sales', data=states);\n",
        "plt.xticks(rotation=90)\n",
        "plt.show()"
      ]
    },
    {
      "cell_type": "markdown",
      "id": "7a21d2dc",
      "metadata": {
        "papermill": {
          "duration": 0.019762,
          "end_time": "2022-10-03T09:44:15.048188",
          "exception": false,
          "start_time": "2022-10-03T09:44:15.028426",
          "status": "completed"
        },
        "tags": [],
        "id": "7a21d2dc"
      },
      "source": [
        "- California and New York have the maximum sales\n",
        "- there are many state have lower sales"
      ]
    },
    {
      "cell_type": "markdown",
      "id": "e8fa6fad",
      "metadata": {
        "papermill": {
          "duration": 0.019344,
          "end_time": "2022-10-03T09:44:15.088597",
          "exception": false,
          "start_time": "2022-10-03T09:44:15.069253",
          "status": "completed"
        },
        "tags": [],
        "id": "e8fa6fad"
      },
      "source": [
        "### check Profit"
      ]
    },
    {
      "cell_type": "code",
      "execution_count": null,
      "id": "905ffb55",
      "metadata": {
        "execution": {
          "iopub.execute_input": "2022-10-03T09:44:15.130466Z",
          "iopub.status.busy": "2022-10-03T09:44:15.129306Z",
          "iopub.status.idle": "2022-10-03T09:44:15.837195Z",
          "shell.execute_reply": "2022-10-03T09:44:15.835386Z"
        },
        "papermill": {
          "duration": 0.733055,
          "end_time": "2022-10-03T09:44:15.840373",
          "exception": false,
          "start_time": "2022-10-03T09:44:15.107318",
          "status": "completed"
        },
        "tags": [],
        "id": "905ffb55",
        "outputId": "61829fef-c1d1-44c7-e74f-8ff72ddb5d35"
      },
      "outputs": [
        {
          "data": {
            "image/png": "[encoded data removed]",
            "text/plain": [
              "<Figure size 1080x360 with 1 Axes>"
            ]
          },
          "metadata": {
            "needs_background": "light"
          },
          "output_type": "display_data"
        }
      ],
      "source": [
        "fig, ax = plt.subplots(figsize=(15, 5))\n",
        "states = states.sort_values('Profit', ascending=False)\n",
        "sns.barplot(x='State', y='Profit', data=states);\n",
        "plt.xticks(rotation=90)\n",
        "plt.show()"
      ]
    },
    {
      "cell_type": "markdown",
      "id": "08206301",
      "metadata": {
        "papermill": {
          "duration": 0.021284,
          "end_time": "2022-10-03T09:44:15.882730",
          "exception": false,
          "start_time": "2022-10-03T09:44:15.861446",
          "status": "completed"
        },
        "tags": [],
        "id": "08206301"
      },
      "source": [
        "- California and New York have the highest profit\n",
        "- there are states have a good sales but profit in negative"
      ]
    },
    {
      "cell_type": "markdown",
      "id": "8fbf983f",
      "metadata": {
        "papermill": {
          "duration": 0.019455,
          "end_time": "2022-10-03T09:44:15.922200",
          "exception": false,
          "start_time": "2022-10-03T09:44:15.902745",
          "status": "completed"
        },
        "tags": [],
        "id": "8fbf983f"
      },
      "source": [
        "## check sales and profit for each state"
      ]
    },
    {
      "cell_type": "code",
      "execution_count": null,
      "id": "2755d39e",
      "metadata": {
        "execution": {
          "iopub.execute_input": "2022-10-03T09:44:15.967180Z",
          "iopub.status.busy": "2022-10-03T09:44:15.966431Z",
          "iopub.status.idle": "2022-10-03T09:44:16.737438Z",
          "shell.execute_reply": "2022-10-03T09:44:16.736095Z"
        },
        "papermill": {
          "duration": 0.798604,
          "end_time": "2022-10-03T09:44:16.740536",
          "exception": false,
          "start_time": "2022-10-03T09:44:15.941932",
          "status": "completed"
        },
        "tags": [],
        "id": "2755d39e",
        "outputId": "7a67fe50-a950-4c12-8313-84ce746bd51f"
      },
      "outputs": [
        {
          "data": {
            "image/png": "[encoded data removed]",
            "text/plain": [
              "<Figure size 1440x576 with 1 Axes>"
            ]
          },
          "metadata": {
            "needs_background": "light"
          },
          "output_type": "display_data"
        }
      ],
      "source": [
        "states= df.groupby(['State'])[['Sales', 'Profit']].sum()\n",
        "states.sort_values(\"Profit\", ascending=False).plot(kind = 'bar', figsize = (20,8))\n",
        "plt.show()"
      ]
    },
    {
      "cell_type": "markdown",
      "id": "df75fcb2",
      "metadata": {
        "papermill": {
          "duration": 0.020047,
          "end_time": "2022-10-03T09:44:16.781154",
          "exception": false,
          "start_time": "2022-10-03T09:44:16.761107",
          "status": "completed"
        },
        "tags": [],
        "id": "df75fcb2"
      },
      "source": [
        "- Not all good sales make a good profit"
      ]
    },
    {
      "cell_type": "markdown",
      "id": "31017686",
      "metadata": {
        "papermill": {
          "duration": 0.023679,
          "end_time": "2022-10-03T09:44:16.826057",
          "exception": false,
          "start_time": "2022-10-03T09:44:16.802378",
          "status": "completed"
        },
        "tags": [],
        "id": "31017686"
      },
      "source": [
        "## Check discount for state"
      ]
    },
    {
      "cell_type": "code",
      "execution_count": null,
      "id": "ee72c9b2",
      "metadata": {
        "execution": {
          "iopub.execute_input": "2022-10-03T09:44:16.869127Z",
          "iopub.status.busy": "2022-10-03T09:44:16.868120Z",
          "iopub.status.idle": "2022-10-03T09:44:17.708328Z",
          "shell.execute_reply": "2022-10-03T09:44:17.707308Z"
        },
        "papermill": {
          "duration": 0.864988,
          "end_time": "2022-10-03T09:44:17.711375",
          "exception": false,
          "start_time": "2022-10-03T09:44:16.846387",
          "status": "completed"
        },
        "tags": [],
        "id": "ee72c9b2",
        "outputId": "6fd59ac1-ea32-4c15-e2fa-92b5f1dec7e2"
      },
      "outputs": [
        {
          "data": {
            "image/png": "[encoded data removed]",
            "text/plain": [
              "<Figure size 1080x360 with 1 Axes>"
            ]
          },
          "metadata": {
            "needs_background": "light"
          },
          "output_type": "display_data"
        }
      ],
      "source": [
        "states= df.groupby(['State']).sum().sort_values('Discount', ascending=False)\n",
        "states.reset_index(inplace=True)\n",
        "\n",
        "fig, ax = plt.subplots(figsize=(15, 5))\n",
        "sns.barplot(x='State', y='Discount', data=states)\n",
        "plt.xticks(rotation=90)\n",
        "plt.show();"
      ]
    },
    {
      "cell_type": "markdown",
      "id": "72a277e8",
      "metadata": {
        "papermill": {
          "duration": 0.023401,
          "end_time": "2022-10-03T09:44:17.756914",
          "exception": false,
          "start_time": "2022-10-03T09:44:17.733513",
          "status": "completed"
        },
        "tags": [],
        "id": "72a277e8"
      },
      "source": [
        "- high discount sometimes cause to loss profit and we can see that"
      ]
    }
  ],
  "metadata": {
    "kernelspec": {
      "display_name": "Python 3 (ipykernel)",
      "language": "python",
      "name": "python3"
    },
    "language_info": {
      "codemirror_mode": {
        "name": "ipython",
        "version": 3
      },
      "file_extension": ".py",
      "mimetype": "text/x-python",
      "name": "python",
      "nbconvert_exporter": "python",
      "pygments_lexer": "ipython3",
      "version": "3.9.7"
    },
    "papermill": {
      "default_parameters": {},
      "duration": 28.116257,
      "end_time": "2022-10-03T09:44:18.980169",
      "environment_variables": {},
      "exception": null,
      "input_path": "__notebook__.ipynb",
      "output_path": "__notebook__.ipynb",
      "parameters": {},
      "start_time": "2022-10-03T09:43:50.863912",
      "version": "2.3.4"
    },
    "colab": {
      "provenance": [],
      "include_colab_link": true
    }
  },
  "nbformat": 4,
  "nbformat_minor": 5
}